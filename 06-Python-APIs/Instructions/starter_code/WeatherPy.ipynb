{
 "cells": [
  {
   "cell_type": "markdown",
   "metadata": {},
   "source": [
    "# WeatherPy\n",
    "----\n",
    "\n",
    "#### Note\n",
    "* Instructions have been included for each segment. You do not have to follow them exactly, but they are included to help you think through the steps."
   ]
  },
  {
   "cell_type": "code",
   "execution_count": 1,
   "metadata": {
    "ExecuteTime": {
     "end_time": "2021-06-02T04:30:41.477405Z",
     "start_time": "2021-06-02T04:30:38.736366Z"
    },
    "scrolled": true
   },
   "outputs": [],
   "source": [
    "# Dependencies and Setup\n",
    "import matplotlib.pyplot as plt\n",
    "import pandas as pd\n",
    "import numpy as np\n",
    "import requests\n",
    "import time\n",
    "from scipy.stats import linregress\n",
    "\n",
    "# Import API key\n",
    "from api_keys import weather_api_key\n",
    "\n",
    "# Incorporated citipy to determine city based on latitude and longitude\n",
    "from citipy import citipy\n",
    "\n",
    "# Output File (CSV)\n",
    "output_data_file = \"output_data/cities.csv\"\n",
    "\n",
    "\n",
    "# Range of latitudes and longitudes\n",
    "lat_range = (-90, 90)\n",
    "lng_range = (-180, 180)"
   ]
  },
  {
   "cell_type": "code",
   "execution_count": 2,
   "metadata": {
    "ExecuteTime": {
     "end_time": "2021-06-02T04:30:44.260895Z",
     "start_time": "2021-06-02T04:30:41.479405Z"
    }
   },
   "outputs": [
    {
     "name": "stdout",
     "output_type": "stream",
     "text": [
      "Requirement already satisfied: citipy in c:\\users\\13126\\anaconda3\\lib\\site-packages (0.0.5)\n",
      "Requirement already satisfied: kdtree>=0.12 in c:\\users\\13126\\anaconda3\\lib\\site-packages (from citipy) (0.16)\n",
      "Note: you may need to restart the kernel to use updated packages.\n"
     ]
    }
   ],
   "source": [
    "pip install citipy"
   ]
  },
  {
   "cell_type": "markdown",
   "metadata": {},
   "source": [
    "## Generate Cities List"
   ]
  },
  {
   "cell_type": "code",
   "execution_count": 3,
   "metadata": {
    "ExecuteTime": {
     "end_time": "2021-06-02T04:30:45.178480Z",
     "start_time": "2021-06-02T04:30:44.265882Z"
    }
   },
   "outputs": [
    {
     "data": {
      "text/plain": [
       "610"
      ]
     },
     "execution_count": 3,
     "metadata": {},
     "output_type": "execute_result"
    }
   ],
   "source": [
    "# List for holding lat_lngs and cities\n",
    "lat_lngs = []\n",
    "cities = []\n",
    "\n",
    "# Create a set of random lat and lng combinations\n",
    "lats = np.random.uniform(lat_range[0], lat_range[1], size=1500)\n",
    "lngs = np.random.uniform(lng_range[0], lng_range[1], size=1500)\n",
    "lat_lngs = zip(lats, lngs)\n",
    "\n",
    "# Identify nearest city for each lat, lng combination\n",
    "for lat_lng in lat_lngs:\n",
    "    city = citipy.nearest_city(lat_lng[0], lat_lng[1]).city_name\n",
    "    \n",
    "    # If the city is unique, then add it to a our cities list\n",
    "    if city not in cities:\n",
    "        cities.append(city)\n",
    "\n",
    "# Print the city count to confirm sufficient count\n",
    "len(cities)"
   ]
  },
  {
   "cell_type": "markdown",
   "metadata": {},
   "source": [
    "### Perform API Calls\n",
    "* Perform a weather check on each city using a series of successive API calls.\n",
    "* Include a print log of each city as it'sbeing processed (with the city number and city name).\n"
   ]
  },
  {
   "cell_type": "code",
   "execution_count": 4,
   "metadata": {
    "ExecuteTime": {
     "end_time": "2021-06-02T04:30:45.194438Z",
     "start_time": "2021-06-02T04:30:45.179440Z"
    }
   },
   "outputs": [],
   "source": [
    "base_url = \"http://api.openweathermap.org/data/2.5/weather?\"\n",
    "units = \"imperial\"\n",
    "query_url = base_url + \"appid=\" + weather_api_key + \"&units=\" + units + \"&q=\""
   ]
  },
  {
   "cell_type": "code",
   "execution_count": 5,
   "metadata": {
    "ExecuteTime": {
     "end_time": "2021-06-02T04:33:26.373685Z",
     "start_time": "2021-06-02T04:30:45.196397Z"
    },
    "scrolled": true
   },
   "outputs": [
    {
     "name": "stdout",
     "output_type": "stream",
     "text": [
      "Beginning Data Retrieval\n",
      "----------------------------\n",
      "Processing Record 1 | taolanaro\n",
      "city name not found\n",
      "Processing Record 2 | punta arenas\n",
      "Processing Record 3 | hermanus\n",
      "Processing Record 4 | laguna\n",
      "Processing Record 5 | cape town\n",
      "Processing Record 6 | nemuro\n",
      "Processing Record 7 | ancud\n",
      "Processing Record 8 | albany\n",
      "Processing Record 9 | tooele\n",
      "Processing Record 10 | atuona\n",
      "Processing Record 11 | patterson\n",
      "Processing Record 12 | carnarvon\n",
      "Processing Record 13 | matay\n",
      "Processing Record 14 | marcona\n",
      "city name not found\n",
      "Processing Record 15 | port hedland\n",
      "Processing Record 16 | coburg\n",
      "Processing Record 17 | villamontes\n",
      "Processing Record 18 | clovis\n",
      "Processing Record 19 | rikitea\n",
      "Processing Record 20 | salalah\n",
      "Processing Record 21 | puerto escondido\n",
      "Processing Record 22 | yerbogachen\n",
      "Processing Record 23 | alofi\n",
      "Processing Record 24 | saint-philippe\n",
      "Processing Record 25 | new norfolk\n",
      "Processing Record 26 | hilo\n",
      "Processing Record 27 | ushuaia\n",
      "Processing Record 28 | kahului\n",
      "Processing Record 29 | hamilton\n",
      "Processing Record 30 | ahipara\n",
      "Processing Record 31 | tuktoyaktuk\n",
      "Processing Record 32 | busselton\n",
      "Processing Record 33 | awbari\n",
      "Processing Record 34 | pangnirtung\n",
      "Processing Record 35 | kapaa\n",
      "Processing Record 36 | vigrestad\n",
      "Processing Record 37 | bredasdorp\n",
      "Processing Record 38 | hithadhoo\n",
      "Processing Record 39 | jamestown\n",
      "Processing Record 40 | hashtrud\n",
      "Processing Record 41 | egvekinot\n",
      "Processing Record 42 | georgetown\n",
      "Processing Record 43 | hobart\n",
      "Processing Record 44 | nanga eboko\n",
      "Processing Record 45 | kralendijk\n",
      "Processing Record 46 | port augusta\n",
      "Processing Record 47 | belyy yar\n",
      "Processing Record 48 | attawapiskat\n",
      "city name not found\n",
      "Processing Record 49 | voznesenye\n",
      "Processing Record 50 | yulara\n",
      "Processing Record 51 | soma\n",
      "Processing Record 52 | thompson\n",
      "Processing Record 53 | illoqqortoormiut\n",
      "city name not found\n",
      "Processing Record 54 | korla\n",
      "Processing Record 55 | kalmunai\n",
      "Processing Record 56 | ulagan\n",
      "Processing Record 57 | puerto ayora\n",
      "Processing Record 58 | mar del plata\n",
      "Processing Record 59 | rudnogorsk\n",
      "Processing Record 60 | buqayq\n",
      "city name not found\n",
      "Processing Record 61 | shimoda\n",
      "Processing Record 62 | mimoso do sul\n",
      "Processing Record 63 | yellowknife\n",
      "Processing Record 64 | mataura\n",
      "Processing Record 65 | barrow\n",
      "Processing Record 66 | tsihombe\n",
      "city name not found\n",
      "Processing Record 67 | palabuhanratu\n",
      "city name not found\n",
      "Processing Record 68 | moose factory\n",
      "Processing Record 69 | katsuura\n",
      "Processing Record 70 | simbahan\n",
      "Processing Record 71 | diamantino\n",
      "Processing Record 72 | seoul\n",
      "Processing Record 73 | mayachnyy\n",
      "Processing Record 74 | namibe\n",
      "Processing Record 75 | saint-georges\n",
      "Processing Record 76 | airai\n",
      "Processing Record 77 | chongqing\n",
      "Processing Record 78 | saleaula\n",
      "city name not found\n",
      "Processing Record 79 | verkhoyansk\n",
      "Processing Record 80 | houma\n",
      "Processing Record 81 | port alfred\n",
      "Processing Record 82 | mys shmidta\n",
      "city name not found\n",
      "Processing Record 83 | bubaque\n",
      "Processing Record 84 | sorland\n",
      "Processing Record 85 | havoysund\n",
      "Processing Record 86 | kachikau\n",
      "city name not found\n",
      "Processing Record 87 | bolungarvik\n",
      "city name not found\n",
      "Processing Record 88 | qaanaaq\n",
      "Processing Record 89 | bin qirdan\n",
      "Processing Record 90 | avarua\n",
      "Processing Record 91 | khatanga\n",
      "Processing Record 92 | provideniya\n",
      "Processing Record 93 | bousso\n",
      "Processing Record 94 | bluff\n",
      "Processing Record 95 | yumen\n",
      "Processing Record 96 | peleduy\n",
      "Processing Record 97 | mount gambier\n",
      "Processing Record 98 | kapoeta\n",
      "Processing Record 99 | manjakandriana\n",
      "Processing Record 100 | chateaubelair\n",
      "Processing Record 101 | marsa matruh\n",
      "Processing Record 102 | arraial do cabo\n",
      "Processing Record 103 | lagoa\n",
      "Processing Record 104 | ribeira grande\n",
      "Processing Record 105 | sorong\n",
      "Processing Record 106 | kendari\n",
      "Processing Record 107 | butaritari\n",
      "Processing Record 108 | saryshagan\n",
      "city name not found\n",
      "Processing Record 109 | aklavik\n",
      "Processing Record 110 | port elizabeth\n",
      "Processing Record 111 | mahebourg\n",
      "Processing Record 112 | ilulissat\n",
      "Processing Record 113 | ngukurr\n",
      "city name not found\n",
      "Processing Record 114 | bintulu\n",
      "Processing Record 115 | tasiilaq\n",
      "Processing Record 116 | bethel\n",
      "Processing Record 117 | zonguldak\n",
      "Processing Record 118 | pisco\n",
      "Processing Record 119 | popondetta\n",
      "Processing Record 120 | pafos\n",
      "Processing Record 121 | gazanjyk\n",
      "Processing Record 122 | djambala\n",
      "Processing Record 123 | kaeo\n",
      "Processing Record 124 | saint-augustin\n",
      "Processing Record 125 | jumla\n",
      "Processing Record 126 | castro\n",
      "Processing Record 127 | altamont\n",
      "Processing Record 128 | ocos\n",
      "Processing Record 129 | abatskoye\n",
      "Processing Record 130 | nanton\n",
      "Processing Record 131 | portland\n",
      "Processing Record 132 | lebrija\n",
      "Processing Record 133 | cherskiy\n",
      "Processing Record 134 | kismayo\n",
      "Processing Record 135 | chokurdakh\n",
      "Processing Record 136 | longyearbyen\n",
      "Processing Record 137 | tura\n",
      "Processing Record 138 | cururupu\n",
      "Processing Record 139 | aketi\n",
      "Processing Record 140 | goderich\n",
      "Processing Record 141 | dikson\n",
      "Processing Record 142 | tibiri\n",
      "Processing Record 143 | sibolga\n",
      "Processing Record 144 | suntar\n",
      "Processing Record 145 | grindavik\n",
      "Processing Record 146 | letterkenny\n",
      "Processing Record 147 | weyburn\n",
      "Processing Record 148 | vaini\n",
      "Processing Record 149 | fort nelson\n",
      "Processing Record 150 | port lincoln\n",
      "Processing Record 151 | umzimvubu\n",
      "city name not found\n",
      "Processing Record 152 | khonuu\n",
      "city name not found\n",
      "Processing Record 153 | ugoofaaru\n",
      "Processing Record 154 | barentsburg\n",
      "city name not found\n",
      "Processing Record 155 | westport\n",
      "Processing Record 156 | semey\n",
      "Processing Record 157 | lusaka\n",
      "Processing Record 158 | acarau\n",
      "Processing Record 159 | tamandare\n",
      "Processing Record 160 | harper\n",
      "Processing Record 161 | smidovich\n",
      "Processing Record 162 | novoagansk\n",
      "Processing Record 163 | port hardy\n",
      "Processing Record 164 | cabo san lucas\n",
      "Processing Record 165 | chuy\n",
      "Processing Record 166 | codrington\n",
      "Processing Record 167 | toppenish\n",
      "Processing Record 168 | ewa beach\n",
      "Processing Record 169 | methoni\n",
      "Processing Record 170 | fastovetskaya\n",
      "Processing Record 171 | dharchula\n",
      "Processing Record 172 | lavrentiya\n",
      "Processing Record 173 | victoria\n",
      "Processing Record 174 | whakatane\n",
      "Processing Record 175 | kununurra\n",
      "Processing Record 176 | bandarbeyla\n",
      "Processing Record 177 | kutum\n",
      "Processing Record 178 | kishtwar\n",
      "Processing Record 179 | abastumani\n",
      "Processing Record 180 | esperance\n",
      "Processing Record 181 | pevek\n",
      "Processing Record 182 | saint anthony\n",
      "Processing Record 183 | saskylakh\n",
      "Processing Record 184 | batemans bay\n",
      "Processing Record 185 | yuxia\n",
      "Processing Record 186 | bengkulu\n",
      "Processing Record 187 | atar\n",
      "Processing Record 188 | isangel\n",
      "Processing Record 189 | panzhihua\n",
      "Processing Record 190 | kruisfontein\n",
      "Processing Record 191 | havre-saint-pierre\n",
      "Processing Record 192 | kamenka\n",
      "Processing Record 193 | olafsvik\n",
      "Processing Record 194 | gizo\n",
      "Processing Record 195 | kodiak\n",
      "Processing Record 196 | gat\n",
      "Processing Record 197 | sitia\n",
      "Processing Record 198 | paka\n",
      "Processing Record 199 | salym\n",
      "Processing Record 200 | rocha\n",
      "Processing Record 201 | nikolskoye\n",
      "Processing Record 202 | dudinka\n",
      "Processing Record 203 | sentyabrskiy\n",
      "city name not found\n",
      "Processing Record 204 | sorvag\n",
      "city name not found\n",
      "Processing Record 205 | torbay\n",
      "Processing Record 206 | tighina\n",
      "Processing Record 207 | los arabos\n",
      "Processing Record 208 | gulkevichi\n",
      "Processing Record 209 | makakilo city\n",
      "Processing Record 210 | belushya guba\n",
      "city name not found\n",
      "Processing Record 211 | vao\n",
      "Processing Record 212 | kapuskasing\n",
      "Processing Record 213 | souillac\n",
      "Processing Record 214 | clyde river\n",
      "Processing Record 215 | klaksvik\n",
      "Processing Record 216 | neiafu\n",
      "Processing Record 217 | husavik\n",
      "Processing Record 218 | linxia\n",
      "Processing Record 219 | canutama\n",
      "Processing Record 220 | cam ranh\n",
      "Processing Record 221 | ketchikan\n",
      "Processing Record 222 | ararat\n",
      "Processing Record 223 | lastoursville\n",
      "Processing Record 224 | college\n",
      "Processing Record 225 | farah\n",
      "Processing Record 226 | tabialan\n",
      "city name not found\n",
      "Processing Record 227 | east london\n",
      "Processing Record 228 | qeshm\n",
      "Processing Record 229 | sao felix do xingu\n",
      "Processing Record 230 | lewisville\n",
      "Processing Record 231 | berbera\n",
      "Processing Record 232 | leningradskiy\n",
      "Processing Record 233 | tomatlan\n",
      "Processing Record 234 | caravelas\n",
      "Processing Record 235 | ponta do sol\n"
     ]
    },
    {
     "name": "stdout",
     "output_type": "stream",
     "text": [
      "Processing Record 236 | beya\n",
      "Processing Record 237 | utiroa\n",
      "city name not found\n",
      "Processing Record 238 | kurilsk\n",
      "Processing Record 239 | samarai\n",
      "Processing Record 240 | sitka\n",
      "Processing Record 241 | olavarria\n",
      "Processing Record 242 | cibitoke\n",
      "Processing Record 243 | rus\n",
      "Processing Record 244 | plettenberg bay\n",
      "Processing Record 245 | khandyga\n",
      "Processing Record 246 | derzhavinsk\n",
      "Processing Record 247 | george town\n",
      "Processing Record 248 | praia da vitoria\n",
      "Processing Record 249 | brae\n",
      "Processing Record 250 | constitucion\n",
      "Processing Record 251 | namatanai\n",
      "Processing Record 252 | xixiang\n",
      "Processing Record 253 | alotau\n",
      "city name not found\n",
      "Processing Record 254 | flinders\n",
      "Processing Record 255 | nova russas\n",
      "Processing Record 256 | dinguiraye\n",
      "Processing Record 257 | bonavista\n",
      "Processing Record 258 | severo-kurilsk\n",
      "Processing Record 259 | oktyabrskiy\n",
      "Processing Record 260 | ouadda\n",
      "Processing Record 261 | karratha\n",
      "Processing Record 262 | hofn\n",
      "Processing Record 263 | fortuna\n",
      "Processing Record 264 | kavieng\n",
      "Processing Record 265 | iranduba\n",
      "Processing Record 266 | ucluelet\n",
      "Processing Record 267 | nanortalik\n",
      "Processing Record 268 | san ramon\n",
      "Processing Record 269 | imbituba\n",
      "Processing Record 270 | havelock\n",
      "Processing Record 271 | san patricio\n",
      "Processing Record 272 | mudon\n",
      "Processing Record 273 | nizhneyansk\n",
      "city name not found\n",
      "Processing Record 274 | riyadh\n",
      "Processing Record 275 | kawana waters\n",
      "city name not found\n",
      "Processing Record 276 | padang\n",
      "Processing Record 277 | iqaluit\n",
      "Processing Record 278 | upernavik\n",
      "Processing Record 279 | severodvinsk\n",
      "Processing Record 280 | leh\n",
      "Processing Record 281 | itarema\n",
      "Processing Record 282 | baglung\n",
      "Processing Record 283 | bathsheba\n",
      "Processing Record 284 | tres arroyos\n",
      "Processing Record 285 | tangzhai\n",
      "Processing Record 286 | nyurba\n",
      "Processing Record 287 | zhangye\n",
      "Processing Record 288 | stefanovikion\n",
      "city name not found\n",
      "Processing Record 289 | dzaoudzi\n",
      "Processing Record 290 | kenai\n",
      "Processing Record 291 | henties bay\n",
      "Processing Record 292 | okha\n",
      "Processing Record 293 | pine bluff\n",
      "Processing Record 294 | kribi\n",
      "Processing Record 295 | simpang\n",
      "Processing Record 296 | stokmarknes\n",
      "Processing Record 297 | san cristobal\n",
      "Processing Record 298 | balaipungut\n",
      "Processing Record 299 | saint george\n",
      "Processing Record 300 | maloyaz\n",
      "city name not found\n",
      "Processing Record 301 | mountain home\n",
      "Processing Record 302 | dingle\n",
      "Processing Record 303 | yar-sale\n",
      "Processing Record 304 | dibaya\n",
      "city name not found\n",
      "Processing Record 305 | uray\n",
      "Processing Record 306 | turkmenabat\n",
      "Processing Record 307 | rio grande\n",
      "Processing Record 308 | pinos puente\n",
      "Processing Record 309 | mehamn\n",
      "Processing Record 310 | mogadishu\n",
      "Processing Record 311 | bambous virieux\n",
      "Processing Record 312 | keetmanshoop\n",
      "Processing Record 313 | goure\n",
      "Processing Record 314 | mount isa\n",
      "Processing Record 315 | nishihara\n",
      "Processing Record 316 | kaitangata\n",
      "Processing Record 317 | amderma\n",
      "city name not found\n",
      "Processing Record 318 | geraldton\n",
      "Processing Record 319 | shiringushi\n",
      "Processing Record 320 | cotonou\n",
      "Processing Record 321 | honiara\n",
      "Processing Record 322 | kholm\n",
      "Processing Record 323 | yeppoon\n",
      "Processing Record 324 | praxedis guerrero\n",
      "Processing Record 325 | mattru\n",
      "Processing Record 326 | kologriv\n",
      "Processing Record 327 | takoradi\n",
      "Processing Record 328 | lata\n",
      "Processing Record 329 | lebu\n",
      "Processing Record 330 | broome\n",
      "Processing Record 331 | faanui\n",
      "Processing Record 332 | waipawa\n",
      "Processing Record 333 | bihariganj\n",
      "Processing Record 334 | darhan\n",
      "Processing Record 335 | bisira\n",
      "Processing Record 336 | teguldet\n",
      "Processing Record 337 | mishelevka\n",
      "Processing Record 338 | gornyy\n",
      "Processing Record 339 | monrovia\n",
      "Processing Record 340 | strezhevoy\n",
      "Processing Record 341 | la palma\n",
      "Processing Record 342 | meulaboh\n",
      "Processing Record 343 | port-gentil\n",
      "Processing Record 344 | mahajanga\n",
      "Processing Record 345 | mayskiy\n",
      "Processing Record 346 | cullinan\n",
      "Processing Record 347 | hambantota\n",
      "Processing Record 348 | viedma\n",
      "Processing Record 349 | belmonte\n",
      "Processing Record 350 | atasu\n",
      "Processing Record 351 | tehri\n",
      "Processing Record 352 | kati\n",
      "Processing Record 353 | paamiut\n",
      "Processing Record 354 | tessalit\n",
      "Processing Record 355 | tshane\n",
      "Processing Record 356 | sioux lookout\n",
      "Processing Record 357 | bhachau\n",
      "Processing Record 358 | bereda\n",
      "Processing Record 359 | krasnoturansk\n",
      "Processing Record 360 | akdepe\n",
      "Processing Record 361 | vikhorevka\n",
      "Processing Record 362 | santiago del estero\n",
      "Processing Record 363 | finote selam\n",
      "Processing Record 364 | bam\n",
      "Processing Record 365 | lethem\n",
      "Processing Record 366 | bairiki\n",
      "Processing Record 367 | loves park\n",
      "Processing Record 368 | severnoye\n",
      "Processing Record 369 | vila franca do campo\n",
      "Processing Record 370 | lago da pedra\n",
      "Processing Record 371 | aragats\n",
      "Processing Record 372 | kodinsk\n",
      "Processing Record 373 | bambanglipuro\n",
      "Processing Record 374 | lompoc\n",
      "Processing Record 375 | vaitupu\n",
      "city name not found\n",
      "Processing Record 376 | mnogovershinnyy\n",
      "Processing Record 377 | bac lieu\n",
      "Processing Record 378 | greenville\n",
      "Processing Record 379 | domoni\n",
      "Processing Record 380 | petrivka\n",
      "Processing Record 381 | camacha\n",
      "Processing Record 382 | luderitz\n",
      "Processing Record 383 | punta de piedra\n",
      "Processing Record 384 | asfi\n",
      "Processing Record 385 | mullaitivu\n",
      "city name not found\n",
      "Processing Record 386 | cooma\n",
      "Processing Record 387 | martapura\n",
      "Processing Record 388 | anaconda\n",
      "Processing Record 389 | pontes e lacerda\n",
      "Processing Record 390 | tigil\n",
      "Processing Record 391 | qaqortoq\n",
      "Processing Record 392 | port blair\n",
      "Processing Record 393 | tumannyy\n",
      "city name not found\n",
      "Processing Record 394 | kampot\n",
      "Processing Record 395 | adrar\n",
      "Processing Record 396 | buchanan\n",
      "Processing Record 397 | balkanabat\n",
      "Processing Record 398 | touros\n",
      "Processing Record 399 | zolotinka\n",
      "city name not found\n",
      "Processing Record 400 | ankang\n",
      "Processing Record 401 | tucuman\n",
      "Processing Record 402 | kabinda\n",
      "Processing Record 403 | roebourne\n",
      "Processing Record 404 | veshenskaya\n",
      "Processing Record 405 | jinhua\n",
      "Processing Record 406 | estevan\n",
      "Processing Record 407 | churapcha\n",
      "Processing Record 408 | bahia blanca\n",
      "Processing Record 409 | aksay\n",
      "Processing Record 410 | nantucket\n",
      "Processing Record 411 | solnechnyy\n",
      "Processing Record 412 | casablanca\n",
      "Processing Record 413 | arsenyev\n",
      "Processing Record 414 | lyngseidet\n",
      "Processing Record 415 | zhigansk\n",
      "Processing Record 416 | saint-alexandre\n",
      "Processing Record 417 | beringovskiy\n",
      "Processing Record 418 | denpasar\n",
      "Processing Record 419 | pierre\n",
      "Processing Record 420 | bilma\n",
      "Processing Record 421 | khanpur\n",
      "Processing Record 422 | srednekolymsk\n",
      "Processing Record 423 | iberia\n",
      "Processing Record 424 | gornopravdinsk\n",
      "Processing Record 425 | kieta\n",
      "Processing Record 426 | mouzouras\n",
      "Processing Record 427 | luebo\n",
      "Processing Record 428 | san pedro\n",
      "Processing Record 429 | port-cartier\n",
      "Processing Record 430 | joshimath\n",
      "Processing Record 431 | nuuk\n",
      "Processing Record 432 | soe\n",
      "Processing Record 433 | ron\n",
      "Processing Record 434 | axim\n",
      "Processing Record 435 | siguiri\n",
      "Processing Record 436 | winslow\n",
      "Processing Record 437 | bad goisern\n",
      "Processing Record 438 | oktyabrskoye\n",
      "Processing Record 439 | kavaratti\n",
      "Processing Record 440 | avera\n",
      "Processing Record 441 | fairbanks\n",
      "Processing Record 442 | santa isabel do rio negro\n",
      "Processing Record 443 | riosucio\n",
      "Processing Record 444 | scottsburgh\n",
      "city name not found\n",
      "Processing Record 445 | cap malheureux\n",
      "Processing Record 446 | ulladulla\n",
      "Processing Record 447 | haines junction\n",
      "Processing Record 448 | acapulco\n",
      "Processing Record 449 | bur gabo\n",
      "city name not found\n",
      "Processing Record 450 | hailar\n",
      "Processing Record 451 | talnakh\n",
      "Processing Record 452 | sakakah\n",
      "Processing Record 453 | sao filipe\n",
      "Processing Record 454 | ruatoria\n",
      "city name not found\n",
      "Processing Record 455 | pedernales\n",
      "Processing Record 456 | uralskiy\n",
      "city name not found\n",
      "Processing Record 457 | cocobeach\n",
      "Processing Record 458 | dubai\n",
      "Processing Record 459 | cidreira\n",
      "Processing Record 460 | los llanos de aridane\n",
      "Processing Record 461 | osinovo\n",
      "Processing Record 462 | labuhan\n",
      "Processing Record 463 | shingu\n",
      "Processing Record 464 | irece\n",
      "Processing Record 465 | narsaq\n",
      "Processing Record 466 | flin flon\n",
      "Processing Record 467 | birao\n",
      "Processing Record 468 | suez\n",
      "Processing Record 469 | marv dasht\n",
      "city name not found\n",
      "Processing Record 470 | colares\n",
      "Processing Record 471 | petropavlovsk-kamchatskiy\n",
      "Processing Record 472 | tuatapere\n"
     ]
    },
    {
     "name": "stdout",
     "output_type": "stream",
     "text": [
      "Processing Record 473 | manbij\n",
      "Processing Record 474 | guerrero negro\n",
      "Processing Record 475 | alice springs\n",
      "Processing Record 476 | kommunisticheskiy\n",
      "Processing Record 477 | logan\n",
      "Processing Record 478 | hayden\n",
      "Processing Record 479 | rio gallegos\n",
      "Processing Record 480 | norman wells\n",
      "Processing Record 481 | adzhamka\n",
      "Processing Record 482 | tasbuget\n",
      "city name not found\n",
      "Processing Record 483 | barcelos\n",
      "Processing Record 484 | komsomolskiy\n",
      "Processing Record 485 | gravdal\n",
      "Processing Record 486 | eskasem\n",
      "city name not found\n",
      "Processing Record 487 | road town\n",
      "Processing Record 488 | la tuque\n",
      "Processing Record 489 | sao joao da barra\n",
      "Processing Record 490 | carman\n",
      "Processing Record 491 | abbeville\n",
      "Processing Record 492 | vanimo\n",
      "Processing Record 493 | uyuni\n",
      "Processing Record 494 | galveston\n",
      "Processing Record 495 | varkkallai\n",
      "Processing Record 496 | jining\n",
      "Processing Record 497 | martil\n",
      "Processing Record 498 | hammerfest\n",
      "Processing Record 499 | abonnema\n",
      "Processing Record 500 | sarangani\n",
      "Processing Record 501 | angoche\n",
      "Processing Record 502 | tautira\n",
      "Processing Record 503 | tompa\n",
      "Processing Record 504 | taltal\n",
      "Processing Record 505 | beaverlodge\n",
      "Processing Record 506 | tiksi\n",
      "Processing Record 507 | basco\n",
      "Processing Record 508 | jinchang\n",
      "Processing Record 509 | esperanza\n",
      "Processing Record 510 | tobol\n",
      "Processing Record 511 | hihifo\n",
      "city name not found\n",
      "Processing Record 512 | necochea\n",
      "Processing Record 513 | erzin\n",
      "Processing Record 514 | northam\n",
      "Processing Record 515 | carutapera\n",
      "Processing Record 516 | lixourion\n",
      "Processing Record 517 | kaberamaido\n",
      "Processing Record 518 | muroto\n",
      "Processing Record 519 | polewali\n",
      "Processing Record 520 | genthin\n",
      "Processing Record 521 | acari\n",
      "Processing Record 522 | wageningen\n",
      "Processing Record 523 | yinchuan\n",
      "Processing Record 524 | harindanga\n",
      "Processing Record 525 | dindori\n",
      "Processing Record 526 | santa rosa\n",
      "Processing Record 527 | rorvik\n",
      "Processing Record 528 | uige\n",
      "Processing Record 529 | rapid city\n",
      "Processing Record 530 | north bend\n",
      "Processing Record 531 | terrak\n",
      "Processing Record 532 | half moon bay\n",
      "Processing Record 533 | maxixe\n",
      "Processing Record 534 | southbridge\n",
      "Processing Record 535 | hasaki\n",
      "Processing Record 536 | rawannawi\n",
      "city name not found\n",
      "Processing Record 537 | horsham\n",
      "Processing Record 538 | khilok\n",
      "Processing Record 539 | keningau\n",
      "Processing Record 540 | guarapari\n",
      "Processing Record 541 | mahon\n",
      "Processing Record 542 | ourem\n",
      "Processing Record 543 | agua verde\n",
      "Processing Record 544 | isa khel\n",
      "Processing Record 545 | milkovo\n",
      "Processing Record 546 | poronaysk\n",
      "Processing Record 547 | providencia\n",
      "Processing Record 548 | nelson bay\n",
      "Processing Record 549 | porbandar\n",
      "Processing Record 550 | tabou\n",
      "Processing Record 551 | saraland\n",
      "Processing Record 552 | tezu\n",
      "Processing Record 553 | san juan\n",
      "Processing Record 554 | mitsamiouli\n",
      "Processing Record 555 | huarmey\n",
      "Processing Record 556 | yangjiang\n",
      "Processing Record 557 | blagoyevo\n",
      "Processing Record 558 | purna\n",
      "Processing Record 559 | okhotsk\n",
      "Processing Record 560 | muros\n",
      "Processing Record 561 | tommot\n",
      "Processing Record 562 | wasilla\n",
      "Processing Record 563 | pailitas\n",
      "Processing Record 564 | nyakabindi\n",
      "Processing Record 565 | luganville\n",
      "Processing Record 566 | edissiya\n",
      "Processing Record 567 | mazatlan\n",
      "Processing Record 568 | ningan\n",
      "city name not found\n",
      "Processing Record 569 | lazaro cardenas\n",
      "Processing Record 570 | gunnedah\n",
      "Processing Record 571 | rock island\n",
      "Processing Record 572 | fengcheng\n",
      "Processing Record 573 | payson\n",
      "Processing Record 574 | svilengrad\n",
      "Processing Record 575 | grand river south east\n",
      "city name not found\n",
      "Processing Record 576 | vila velha\n",
      "Processing Record 577 | gazli\n",
      "Processing Record 578 | cayenne\n",
      "Processing Record 579 | comodoro rivadavia\n",
      "Processing Record 580 | abu samrah\n",
      "Processing Record 581 | gbarnga\n",
      "Processing Record 582 | santa marta\n",
      "Processing Record 583 | chenzhou\n",
      "Processing Record 584 | amarante do maranhao\n",
      "Processing Record 585 | tapaua\n",
      "city name not found\n",
      "Processing Record 586 | wad madani\n",
      "Processing Record 587 | kapurthala\n",
      "Processing Record 588 | bud\n",
      "Processing Record 589 | fairlie\n",
      "Processing Record 590 | boa vista\n",
      "Processing Record 591 | porto torres\n",
      "Processing Record 592 | belfast\n",
      "Processing Record 593 | kindu\n",
      "Processing Record 594 | zhongshu\n",
      "Processing Record 595 | coquimbo\n",
      "Processing Record 596 | gusinoye ozero\n",
      "Processing Record 597 | burnie\n",
      "Processing Record 598 | shelburne\n",
      "Processing Record 599 | kochubey\n",
      "Processing Record 600 | zyryanka\n",
      "Processing Record 601 | trelew\n",
      "Processing Record 602 | saldanha\n",
      "Processing Record 603 | tiznit\n",
      "Processing Record 604 | whitehorse\n",
      "Processing Record 605 | valera\n",
      "Processing Record 606 | chuka\n",
      "Processing Record 607 | tecoanapa\n",
      "Processing Record 608 | chakulia\n",
      "Processing Record 609 | shaoyang\n",
      "Processing Record 610 | rajampet\n",
      "------------------------------\n",
      "Data retrieval complete\n"
     ]
    }
   ],
   "source": [
    "# Set list\n",
    "city_name = []\n",
    "max_temps = []\n",
    "humidity = []\n",
    "cloudiness = []\n",
    "wind_speed = []\n",
    "lat = []\n",
    "lng = []\n",
    "country = []\n",
    "date = []\n",
    "\n",
    "\n",
    "print(\"Beginning Data Retrieval\")\n",
    "print(\"----------------------------\")\n",
    "x=0\n",
    "for city in cities: \n",
    "    try: \n",
    "        city_data = requests.get(query_url + city).json()\n",
    "        x=x+1\n",
    "        print(f\"Processing Record {x} | {city}\")\n",
    "        city_name.append(city_data[\"name\"])\n",
    "        lat.append(city_data[\"coord\"][\"lat\"])\n",
    "        lng.append(city_data[\"coord\"][\"lon\"])\n",
    "        max_temps.append(city_data[\"main\"][\"temp_max\"])\n",
    "        humidity.append(city_data[\"main\"][\"humidity\"])\n",
    "        cloudiness.append(city_data[\"clouds\"][\"all\"])\n",
    "        wind_speed.append(city_data[\"wind\"][\"speed\"])\n",
    "        country.append(city_data[\"sys\"][\"country\"])\n",
    "        date.append(city_data[\"dt\"])\n",
    "        #print(city_name)\n",
    "    except KeyError: \n",
    "        print(\"city name not found\")\n",
    "        \n",
    "        #print(city_name)\n",
    "print(\"------------------------------\")        \n",
    "print(\"Data retrieval complete\")"
   ]
  },
  {
   "cell_type": "markdown",
   "metadata": {},
   "source": [
    "### Convert Raw Data to DataFrame\n",
    "* Export the city data into a .csv.\n",
    "* Display the DataFrame"
   ]
  },
  {
   "cell_type": "code",
   "execution_count": 6,
   "metadata": {
    "ExecuteTime": {
     "end_time": "2021-06-02T04:33:26.418563Z",
     "start_time": "2021-06-02T04:33:26.381673Z"
    }
   },
   "outputs": [
    {
     "data": {
      "text/html": [
       "<div>\n",
       "<style scoped>\n",
       "    .dataframe tbody tr th:only-of-type {\n",
       "        vertical-align: middle;\n",
       "    }\n",
       "\n",
       "    .dataframe tbody tr th {\n",
       "        vertical-align: top;\n",
       "    }\n",
       "\n",
       "    .dataframe thead th {\n",
       "        text-align: right;\n",
       "    }\n",
       "</style>\n",
       "<table border=\"1\" class=\"dataframe\">\n",
       "  <thead>\n",
       "    <tr style=\"text-align: right;\">\n",
       "      <th></th>\n",
       "      <th>City Name</th>\n",
       "      <th>Lat</th>\n",
       "      <th>Lng</th>\n",
       "      <th>Max Temp</th>\n",
       "      <th>Humidity</th>\n",
       "      <th>Cloudiness</th>\n",
       "      <th>Wind Speed</th>\n",
       "      <th>Country</th>\n",
       "      <th>Date</th>\n",
       "    </tr>\n",
       "  </thead>\n",
       "  <tbody>\n",
       "    <tr>\n",
       "      <th>0</th>\n",
       "      <td>Punta Arenas</td>\n",
       "      <td>-53.1500</td>\n",
       "      <td>-70.9167</td>\n",
       "      <td>21.31</td>\n",
       "      <td>93</td>\n",
       "      <td>75</td>\n",
       "      <td>0.38</td>\n",
       "      <td>CL</td>\n",
       "      <td>1622608235</td>\n",
       "    </tr>\n",
       "    <tr>\n",
       "      <th>1</th>\n",
       "      <td>Hermanus</td>\n",
       "      <td>-34.4187</td>\n",
       "      <td>19.2345</td>\n",
       "      <td>54.90</td>\n",
       "      <td>76</td>\n",
       "      <td>7</td>\n",
       "      <td>4.56</td>\n",
       "      <td>ZA</td>\n",
       "      <td>1622608235</td>\n",
       "    </tr>\n",
       "    <tr>\n",
       "      <th>2</th>\n",
       "      <td>Laguna</td>\n",
       "      <td>38.4210</td>\n",
       "      <td>-121.4238</td>\n",
       "      <td>91.90</td>\n",
       "      <td>41</td>\n",
       "      <td>1</td>\n",
       "      <td>6.42</td>\n",
       "      <td>US</td>\n",
       "      <td>1622608236</td>\n",
       "    </tr>\n",
       "    <tr>\n",
       "      <th>3</th>\n",
       "      <td>Cape Town</td>\n",
       "      <td>-33.9258</td>\n",
       "      <td>18.4232</td>\n",
       "      <td>56.10</td>\n",
       "      <td>91</td>\n",
       "      <td>0</td>\n",
       "      <td>1.99</td>\n",
       "      <td>ZA</td>\n",
       "      <td>1622608236</td>\n",
       "    </tr>\n",
       "    <tr>\n",
       "      <th>4</th>\n",
       "      <td>Nemuro</td>\n",
       "      <td>43.3236</td>\n",
       "      <td>145.5750</td>\n",
       "      <td>68.43</td>\n",
       "      <td>84</td>\n",
       "      <td>100</td>\n",
       "      <td>12.77</td>\n",
       "      <td>JP</td>\n",
       "      <td>1622608237</td>\n",
       "    </tr>\n",
       "    <tr>\n",
       "      <th>5</th>\n",
       "      <td>Ancud</td>\n",
       "      <td>-41.8697</td>\n",
       "      <td>-73.8203</td>\n",
       "      <td>44.22</td>\n",
       "      <td>77</td>\n",
       "      <td>99</td>\n",
       "      <td>1.90</td>\n",
       "      <td>CL</td>\n",
       "      <td>1622608066</td>\n",
       "    </tr>\n",
       "    <tr>\n",
       "      <th>6</th>\n",
       "      <td>Albany</td>\n",
       "      <td>42.6001</td>\n",
       "      <td>-73.9662</td>\n",
       "      <td>57.52</td>\n",
       "      <td>83</td>\n",
       "      <td>94</td>\n",
       "      <td>2.93</td>\n",
       "      <td>US</td>\n",
       "      <td>1622608001</td>\n",
       "    </tr>\n",
       "    <tr>\n",
       "      <th>7</th>\n",
       "      <td>Tooele</td>\n",
       "      <td>40.5308</td>\n",
       "      <td>-112.2983</td>\n",
       "      <td>70.20</td>\n",
       "      <td>36</td>\n",
       "      <td>1</td>\n",
       "      <td>1.28</td>\n",
       "      <td>US</td>\n",
       "      <td>1622608237</td>\n",
       "    </tr>\n",
       "    <tr>\n",
       "      <th>8</th>\n",
       "      <td>Atuona</td>\n",
       "      <td>-9.8000</td>\n",
       "      <td>-139.0333</td>\n",
       "      <td>79.74</td>\n",
       "      <td>74</td>\n",
       "      <td>36</td>\n",
       "      <td>15.14</td>\n",
       "      <td>PF</td>\n",
       "      <td>1622608237</td>\n",
       "    </tr>\n",
       "    <tr>\n",
       "      <th>9</th>\n",
       "      <td>Patterson</td>\n",
       "      <td>37.4716</td>\n",
       "      <td>-121.1297</td>\n",
       "      <td>88.25</td>\n",
       "      <td>40</td>\n",
       "      <td>8</td>\n",
       "      <td>4.38</td>\n",
       "      <td>US</td>\n",
       "      <td>1622608238</td>\n",
       "    </tr>\n",
       "  </tbody>\n",
       "</table>\n",
       "</div>"
      ],
      "text/plain": [
       "      City Name      Lat       Lng  Max Temp  Humidity  Cloudiness  \\\n",
       "0  Punta Arenas -53.1500  -70.9167     21.31        93          75   \n",
       "1      Hermanus -34.4187   19.2345     54.90        76           7   \n",
       "2        Laguna  38.4210 -121.4238     91.90        41           1   \n",
       "3     Cape Town -33.9258   18.4232     56.10        91           0   \n",
       "4        Nemuro  43.3236  145.5750     68.43        84         100   \n",
       "5         Ancud -41.8697  -73.8203     44.22        77          99   \n",
       "6        Albany  42.6001  -73.9662     57.52        83          94   \n",
       "7        Tooele  40.5308 -112.2983     70.20        36           1   \n",
       "8        Atuona  -9.8000 -139.0333     79.74        74          36   \n",
       "9     Patterson  37.4716 -121.1297     88.25        40           8   \n",
       "\n",
       "   Wind Speed Country        Date  \n",
       "0        0.38      CL  1622608235  \n",
       "1        4.56      ZA  1622608235  \n",
       "2        6.42      US  1622608236  \n",
       "3        1.99      ZA  1622608236  \n",
       "4       12.77      JP  1622608237  \n",
       "5        1.90      CL  1622608066  \n",
       "6        2.93      US  1622608001  \n",
       "7        1.28      US  1622608237  \n",
       "8       15.14      PF  1622608237  \n",
       "9        4.38      US  1622608238  "
      ]
     },
     "execution_count": 6,
     "metadata": {},
     "output_type": "execute_result"
    }
   ],
   "source": [
    "# Make a dataframe\n",
    "# Add lat_lngs\n",
    "city_data_df = pd.DataFrame({\"City Name\": city_name, \n",
    "                             \"Lat\": lat,\n",
    "                             \"Lng\": lng,\n",
    "                              \"Max Temp\": max_temps, \n",
    "                              \"Humidity\": humidity, \n",
    "                              \"Cloudiness\": cloudiness,\n",
    "                              \"Wind Speed\": wind_speed,\n",
    "                              \"Country\": country,\n",
    "                              \"Date\": date})\n",
    "city_data_df.head(10)"
   ]
  },
  {
   "cell_type": "markdown",
   "metadata": {},
   "source": [
    "## Inspect the data and remove the cities where the humidity > 100%.\n",
    "----\n",
    "Skip this step if there are no cities that have humidity > 100%. "
   ]
  },
  {
   "cell_type": "code",
   "execution_count": null,
   "metadata": {
    "ExecuteTime": {
     "end_time": "2021-06-02T04:33:27.084528Z",
     "start_time": "2021-06-02T04:31:09.587Z"
    }
   },
   "outputs": [],
   "source": [
    "city_data_df.to_csv(\"city_data.csv\")"
   ]
  },
  {
   "cell_type": "code",
   "execution_count": null,
   "metadata": {
    "ExecuteTime": {
     "end_time": "2021-06-02T04:33:27.088548Z",
     "start_time": "2021-06-02T04:31:10.779Z"
    }
   },
   "outputs": [],
   "source": [
    "#  Get the indices of cities that have humidity over 100%.\n",
    "humidity_over_onehundred = city_data_df.loc[city_data_df[\"Humidity\"]>100]\n",
    "humid_cities_onehundred = humidity_over_onehundred[\"City Name\"].count()\n",
    "humid_cities_onehundred"
   ]
  },
  {
   "cell_type": "code",
   "execution_count": 12,
   "metadata": {
    "ExecuteTime": {
     "end_time": "2021-06-02T04:36:35.371246Z",
     "start_time": "2021-06-02T04:36:35.335280Z"
    }
   },
   "outputs": [
    {
     "data": {
      "text/plain": [
       "'06/01/21'"
      ]
     },
     "execution_count": 12,
     "metadata": {},
     "output_type": "execute_result"
    }
   ],
   "source": [
    "# Make a new DataFrame equal to the city data to drop all humidity outliers by index.\n",
    "# Passing \"inplace=False\" will make a copy of the city_data DataFrame, which we call \"clean_city_data\".\n",
    "city_data_df.describe()\n",
    "\n",
    "# Convert the unicode to a date for the plots (the date the API was called for weather data)\n",
    "date_title = city_data_df.loc[0, \"Date\"]\n",
    "date_title\n",
    "\n",
    "# Convert the format to mm/dd/yy\n",
    "date_title = time.localtime()\n",
    "date_title = time.strftime(\"%x\")\n",
    "date_title"
   ]
  },
  {
   "cell_type": "markdown",
   "metadata": {},
   "source": [
    "## Plotting the Data\n",
    "* Use proper labeling of the plots using plot titles (including date of analysis) and axes labels.\n",
    "* Save the plotted figures as .pngs."
   ]
  },
  {
   "cell_type": "markdown",
   "metadata": {},
   "source": [
    "## Latitude vs. Temperature Plot"
   ]
  },
  {
   "cell_type": "code",
   "execution_count": 15,
   "metadata": {
    "ExecuteTime": {
     "end_time": "2021-06-02T04:37:36.471687Z",
     "start_time": "2021-06-02T04:37:36.305318Z"
    },
    "scrolled": true
   },
   "outputs": [
    {
     "data": {
      "image/png": "[encoded data removed]",
      "text/plain": [
       "<Figure size 432x288 with 1 Axes>"
      ]
     },
     "metadata": {
      "needs_background": "light"
     },
     "output_type": "display_data"
    }
   ],
   "source": [
    "# Create scatter plot with Latitude and Max Temp\n",
    "# Title and labels\n",
    "# Add grid\n",
    "\n",
    "plt.scatter(city_data_df[\"Lat\"], city_data_df[\"Max Temp\"], marker=\"o\", edgecolor=\"black\", alpha=0.75)\n",
    "\n",
    "plt.title(f\"City Latitude vs. Max Temperature (F) ({date_title})\")\n",
    "plt.xlabel(\"Latitude\")\n",
    "plt.ylabel(\"Max Temperature (F)\")\n",
    "\n",
    "plt.rc('grid', linestyle=\"-\", color='black')\n",
    "plt.grid(True, alpha=0.5)\n",
    " \n",
    "plt.show()"
   ]
  },
  {
   "cell_type": "markdown",
   "metadata": {},
   "source": [
    "## Latitude vs. Humidity Plot"
   ]
  },
  {
   "cell_type": "code",
   "execution_count": 16,
   "metadata": {
    "ExecuteTime": {
     "end_time": "2021-06-02T04:37:55.661996Z",
     "start_time": "2021-06-02T04:37:55.495055Z"
    }
   },
   "outputs": [
    {
     "data": {
      "image/png": "[encoded data removed]",
      "text/plain": [
       "<Figure size 432x288 with 1 Axes>"
      ]
     },
     "metadata": {
      "needs_background": "light"
     },
     "output_type": "display_data"
    }
   ],
   "source": [
    "# Create scatter plot with Latitude and Humidity\n",
    "# Add title and labels\n",
    "# Ad grid\n",
    "plt.scatter(city_data_df[\"Lat\"], city_data_df[\"Humidity\"], marker=\"o\", edgecolor=\"black\")\n",
    "\n",
    "plt.title(f\"City Latitude vs. Humidity (%) ({date_title})\")\n",
    "plt.xlabel(\"Latitude\")\n",
    "plt.ylabel(\"Humidity (%)\")\n",
    "\n",
    "plt.rc('grid', linestyle=\"-\", color='black')\n",
    "plt.grid(True, alpha=0.5)\n",
    "\n",
    "plt.show()"
   ]
  },
  {
   "cell_type": "markdown",
   "metadata": {},
   "source": [
    "## Latitude vs. Cloudiness Plot"
   ]
  },
  {
   "cell_type": "code",
   "execution_count": 17,
   "metadata": {
    "ExecuteTime": {
     "end_time": "2021-06-02T04:41:10.158699Z",
     "start_time": "2021-06-02T04:41:09.994474Z"
    }
   },
   "outputs": [
    {
     "data": {
      "image/png": "[encoded data removed]",
      "text/plain": [
       "<Figure size 432x288 with 1 Axes>"
      ]
     },
     "metadata": {
      "needs_background": "light"
     },
     "output_type": "display_data"
    }
   ],
   "source": [
    "# Create scatter plot with Latitude and Cloudiness \n",
    "# Add title and labels\n",
    "# Add grid\n",
    "plt.scatter(city_data_df[\"Lat\"], city_data_df[\"Cloudiness\"], marker=\"o\", edgecolor=\"black\")\n",
    "\n",
    "plt.title(f\"City Latitude vs. Cloudiness (%) ({date_title})\")\n",
    "plt.xlabel(\"Latitude\")\n",
    "plt.ylabel(\"Cloudiness (%)\")\n",
    "\n",
    "plt.rc('grid', linestyle=\"-\", color='black')\n",
    "plt.grid(True, alpha=0.5)\n",
    "\n",
    "plt.show()"
   ]
  },
  {
   "cell_type": "markdown",
   "metadata": {},
   "source": [
    "## Latitude vs. Wind Speed Plot"
   ]
  },
  {
   "cell_type": "code",
   "execution_count": 18,
   "metadata": {
    "ExecuteTime": {
     "end_time": "2021-06-02T04:42:59.018146Z",
     "start_time": "2021-06-02T04:42:58.845974Z"
    }
   },
   "outputs": [
    {
     "data": {
      "image/png": "[encoded data removed]",
      "text/plain": [
       "<Figure size 432x288 with 1 Axes>"
      ]
     },
     "metadata": {
      "needs_background": "light"
     },
     "output_type": "display_data"
    }
   ],
   "source": [
    "# Create scatter plot with Latitude and Wind Speed\n",
    "# Add title and labels\n",
    "# Add grid\n",
    "plt.scatter(city_data_df[\"Lat\"], city_data_df[\"Wind Speed\"], marker=\"o\", edgecolor=\"black\")\n",
    "\n",
    "plt.title(f\"City Latitude vs. Wind Speed (mph) ({date_title})\")\n",
    "plt.xlabel(\"Latitude\")\n",
    "plt.ylabel(\"Wind Speed (mph)\")\n",
    "\n",
    "plt.rc('grid', linestyle=\"-\", color='black')\n",
    "plt.grid(True, alpha=0.5)\n",
    "\n",
    "plt.show()"
   ]
  },
  {
   "cell_type": "markdown",
   "metadata": {},
   "source": [
    "## Linear Regression"
   ]
  },
  {
   "cell_type": "markdown",
   "metadata": {},
   "source": [
    "####  Northern Hemisphere - Max Temp vs. Latitude Linear Regression"
   ]
  },
  {
   "cell_type": "code",
   "execution_count": 19,
   "metadata": {
    "ExecuteTime": {
     "end_time": "2021-06-02T04:44:20.185457Z",
     "start_time": "2021-06-02T04:44:20.148593Z"
    }
   },
   "outputs": [
    {
     "data": {
      "text/html": [
       "<div>\n",
       "<style scoped>\n",
       "    .dataframe tbody tr th:only-of-type {\n",
       "        vertical-align: middle;\n",
       "    }\n",
       "\n",
       "    .dataframe tbody tr th {\n",
       "        vertical-align: top;\n",
       "    }\n",
       "\n",
       "    .dataframe thead th {\n",
       "        text-align: right;\n",
       "    }\n",
       "</style>\n",
       "<table border=\"1\" class=\"dataframe\">\n",
       "  <thead>\n",
       "    <tr style=\"text-align: right;\">\n",
       "      <th></th>\n",
       "      <th>City Name</th>\n",
       "      <th>Lat</th>\n",
       "      <th>Lng</th>\n",
       "      <th>Max Temp</th>\n",
       "      <th>Humidity</th>\n",
       "      <th>Cloudiness</th>\n",
       "      <th>Wind Speed</th>\n",
       "      <th>Country</th>\n",
       "      <th>Date</th>\n",
       "    </tr>\n",
       "  </thead>\n",
       "  <tbody>\n",
       "    <tr>\n",
       "      <th>2</th>\n",
       "      <td>Laguna</td>\n",
       "      <td>38.4210</td>\n",
       "      <td>-121.4238</td>\n",
       "      <td>91.90</td>\n",
       "      <td>41</td>\n",
       "      <td>1</td>\n",
       "      <td>6.42</td>\n",
       "      <td>US</td>\n",
       "      <td>1622608236</td>\n",
       "    </tr>\n",
       "    <tr>\n",
       "      <th>4</th>\n",
       "      <td>Nemuro</td>\n",
       "      <td>43.3236</td>\n",
       "      <td>145.5750</td>\n",
       "      <td>68.43</td>\n",
       "      <td>84</td>\n",
       "      <td>100</td>\n",
       "      <td>12.77</td>\n",
       "      <td>JP</td>\n",
       "      <td>1622608237</td>\n",
       "    </tr>\n",
       "    <tr>\n",
       "      <th>6</th>\n",
       "      <td>Albany</td>\n",
       "      <td>42.6001</td>\n",
       "      <td>-73.9662</td>\n",
       "      <td>57.52</td>\n",
       "      <td>83</td>\n",
       "      <td>94</td>\n",
       "      <td>2.93</td>\n",
       "      <td>US</td>\n",
       "      <td>1622608001</td>\n",
       "    </tr>\n",
       "    <tr>\n",
       "      <th>7</th>\n",
       "      <td>Tooele</td>\n",
       "      <td>40.5308</td>\n",
       "      <td>-112.2983</td>\n",
       "      <td>70.20</td>\n",
       "      <td>36</td>\n",
       "      <td>1</td>\n",
       "      <td>1.28</td>\n",
       "      <td>US</td>\n",
       "      <td>1622608237</td>\n",
       "    </tr>\n",
       "    <tr>\n",
       "      <th>9</th>\n",
       "      <td>Patterson</td>\n",
       "      <td>37.4716</td>\n",
       "      <td>-121.1297</td>\n",
       "      <td>88.25</td>\n",
       "      <td>40</td>\n",
       "      <td>8</td>\n",
       "      <td>4.38</td>\n",
       "      <td>US</td>\n",
       "      <td>1622608238</td>\n",
       "    </tr>\n",
       "  </tbody>\n",
       "</table>\n",
       "</div>"
      ],
      "text/plain": [
       "   City Name      Lat       Lng  Max Temp  Humidity  Cloudiness  Wind Speed  \\\n",
       "2     Laguna  38.4210 -121.4238     91.90        41           1        6.42   \n",
       "4     Nemuro  43.3236  145.5750     68.43        84         100       12.77   \n",
       "6     Albany  42.6001  -73.9662     57.52        83          94        2.93   \n",
       "7     Tooele  40.5308 -112.2983     70.20        36           1        1.28   \n",
       "9  Patterson  37.4716 -121.1297     88.25        40           8        4.38   \n",
       "\n",
       "  Country        Date  \n",
       "2      US  1622608236  \n",
       "4      JP  1622608237  \n",
       "6      US  1622608001  \n",
       "7      US  1622608237  \n",
       "9      US  1622608238  "
      ]
     },
     "execution_count": 19,
     "metadata": {},
     "output_type": "execute_result"
    }
   ],
   "source": [
    "# Make a df with the Northern Hemisphere cities\n",
    "\n",
    "northern_hemi_df = city_data_df.loc[city_data_df[\"Lat\"]>=0]\n",
    "northern_hemi_df.head()"
   ]
  },
  {
   "cell_type": "markdown",
   "metadata": {},
   "source": [
    "####  Southern Hemisphere - Max Temp vs. Latitude Linear Regression"
   ]
  },
  {
   "cell_type": "code",
   "execution_count": 20,
   "metadata": {
    "ExecuteTime": {
     "end_time": "2021-06-02T04:44:55.025456Z",
     "start_time": "2021-06-02T04:44:55.008542Z"
    }
   },
   "outputs": [
    {
     "data": {
      "text/html": [
       "<div>\n",
       "<style scoped>\n",
       "    .dataframe tbody tr th:only-of-type {\n",
       "        vertical-align: middle;\n",
       "    }\n",
       "\n",
       "    .dataframe tbody tr th {\n",
       "        vertical-align: top;\n",
       "    }\n",
       "\n",
       "    .dataframe thead th {\n",
       "        text-align: right;\n",
       "    }\n",
       "</style>\n",
       "<table border=\"1\" class=\"dataframe\">\n",
       "  <thead>\n",
       "    <tr style=\"text-align: right;\">\n",
       "      <th></th>\n",
       "      <th>City Name</th>\n",
       "      <th>Lat</th>\n",
       "      <th>Lng</th>\n",
       "      <th>Max Temp</th>\n",
       "      <th>Humidity</th>\n",
       "      <th>Cloudiness</th>\n",
       "      <th>Wind Speed</th>\n",
       "      <th>Country</th>\n",
       "      <th>Date</th>\n",
       "    </tr>\n",
       "  </thead>\n",
       "  <tbody>\n",
       "    <tr>\n",
       "      <th>0</th>\n",
       "      <td>Punta Arenas</td>\n",
       "      <td>-53.1500</td>\n",
       "      <td>-70.9167</td>\n",
       "      <td>21.31</td>\n",
       "      <td>93</td>\n",
       "      <td>75</td>\n",
       "      <td>0.38</td>\n",
       "      <td>CL</td>\n",
       "      <td>1622608235</td>\n",
       "    </tr>\n",
       "    <tr>\n",
       "      <th>1</th>\n",
       "      <td>Hermanus</td>\n",
       "      <td>-34.4187</td>\n",
       "      <td>19.2345</td>\n",
       "      <td>54.90</td>\n",
       "      <td>76</td>\n",
       "      <td>7</td>\n",
       "      <td>4.56</td>\n",
       "      <td>ZA</td>\n",
       "      <td>1622608235</td>\n",
       "    </tr>\n",
       "    <tr>\n",
       "      <th>3</th>\n",
       "      <td>Cape Town</td>\n",
       "      <td>-33.9258</td>\n",
       "      <td>18.4232</td>\n",
       "      <td>56.10</td>\n",
       "      <td>91</td>\n",
       "      <td>0</td>\n",
       "      <td>1.99</td>\n",
       "      <td>ZA</td>\n",
       "      <td>1622608236</td>\n",
       "    </tr>\n",
       "    <tr>\n",
       "      <th>5</th>\n",
       "      <td>Ancud</td>\n",
       "      <td>-41.8697</td>\n",
       "      <td>-73.8203</td>\n",
       "      <td>44.22</td>\n",
       "      <td>77</td>\n",
       "      <td>99</td>\n",
       "      <td>1.90</td>\n",
       "      <td>CL</td>\n",
       "      <td>1622608066</td>\n",
       "    </tr>\n",
       "    <tr>\n",
       "      <th>8</th>\n",
       "      <td>Atuona</td>\n",
       "      <td>-9.8000</td>\n",
       "      <td>-139.0333</td>\n",
       "      <td>79.74</td>\n",
       "      <td>74</td>\n",
       "      <td>36</td>\n",
       "      <td>15.14</td>\n",
       "      <td>PF</td>\n",
       "      <td>1622608237</td>\n",
       "    </tr>\n",
       "  </tbody>\n",
       "</table>\n",
       "</div>"
      ],
      "text/plain": [
       "      City Name      Lat       Lng  Max Temp  Humidity  Cloudiness  \\\n",
       "0  Punta Arenas -53.1500  -70.9167     21.31        93          75   \n",
       "1      Hermanus -34.4187   19.2345     54.90        76           7   \n",
       "3     Cape Town -33.9258   18.4232     56.10        91           0   \n",
       "5         Ancud -41.8697  -73.8203     44.22        77          99   \n",
       "8        Atuona  -9.8000 -139.0333     79.74        74          36   \n",
       "\n",
       "   Wind Speed Country        Date  \n",
       "0        0.38      CL  1622608235  \n",
       "1        4.56      ZA  1622608235  \n",
       "3        1.99      ZA  1622608236  \n",
       "5        1.90      CL  1622608066  \n",
       "8       15.14      PF  1622608237  "
      ]
     },
     "execution_count": 20,
     "metadata": {},
     "output_type": "execute_result"
    }
   ],
   "source": [
    "# Make a df with the Southern Hemisphere cities\n",
    "southern_hemi_df = city_data_df.loc[city_data_df[\"Lat\"]<0]\n",
    "southern_hemi_df.head()"
   ]
  },
  {
   "cell_type": "markdown",
   "metadata": {},
   "source": [
    "####  Northern Hemisphere - Humidity (%) vs. Latitude Linear Regression"
   ]
  },
  {
   "cell_type": "code",
   "execution_count": 21,
   "metadata": {
    "ExecuteTime": {
     "end_time": "2021-06-02T04:48:28.304183Z",
     "start_time": "2021-06-02T04:48:28.103680Z"
    }
   },
   "outputs": [
    {
     "name": "stdout",
     "output_type": "stream",
     "text": [
      "The r-squared is: 0.5\n"
     ]
    },
    {
     "data": {
      "image/png": "[encoded data removed]",
      "text/plain": [
       "<Figure size 432x288 with 1 Axes>"
      ]
     },
     "metadata": {
      "needs_background": "light"
     },
     "output_type": "display_data"
    }
   ],
   "source": [
    "# Define x, y values\n",
    "n_max_temp_x_values = northern_hemi_df[\"Lat\"]\n",
    "n_max_temp_y_values = northern_hemi_df[\"Max Temp\"]\n",
    "\n",
    "# Find linear regression values\n",
    "# Regress_values = total_equipment * slope + intercept\n",
    "(n_max_temp_slope, n_max_temp_intercept, n_max_temp_rvalue, n_max_temp_pvalue, n_max_temp_stderr) = linregress(n_max_temp_x_values, n_max_temp_y_values)\n",
    "n_max_temp_regress_values = np.asarray(n_max_temp_x_values) * n_max_temp_slope + n_max_temp_intercept\n",
    "\n",
    "# Find r-squared\n",
    "n_max_temp_rsquared = round(n_max_temp_rvalue**2,2)\n",
    "print(f\"The r-squared is: {n_max_temp_rsquared}\")\n",
    "\n",
    "# Line equation \n",
    "n_max_temp_line_eq = \"y =\" + str(round(n_max_temp_slope,2)) + \"x + \" + str(round(n_max_temp_intercept,2))\n",
    "\n",
    "# Create scatter plot\n",
    "plt.scatter(n_max_temp_x_values, n_max_temp_y_values)\n",
    "\n",
    "# Add regression line\n",
    "plt.plot(n_max_temp_x_values, n_max_temp_regress_values, \"r-\")\n",
    "\n",
    "# Add title and labels\n",
    "plt.title(f\"Northern Hemisphere City Latitude vs. Max Temperature ({date_title})\")\n",
    "plt.xlabel(\"Latitude\")\n",
    "plt.ylabel(\"Max Temperature (F)\")\n",
    "\n",
    "# Add annotation to plot\n",
    "plt.annotate(n_max_temp_line_eq,(0,10), fontsize=15, color=\"red\")\n",
    "plt.annotate(f\"r-squared = {n_max_temp_rsquared}\",(0,0),fontsize=15,color=\"red\")\n",
    "\n",
    "plt.show()"
   ]
  },
  {
   "cell_type": "markdown",
   "metadata": {},
   "source": [
    "####  Southern Hemisphere - Humidity (%) vs. Latitude Linear Regression"
   ]
  },
  {
   "cell_type": "code",
   "execution_count": 23,
   "metadata": {
    "ExecuteTime": {
     "end_time": "2021-06-02T04:51:28.026208Z",
     "start_time": "2021-06-02T04:51:27.849878Z"
    }
   },
   "outputs": [
    {
     "name": "stdout",
     "output_type": "stream",
     "text": [
      "The r-squared is: 0.53\n"
     ]
    },
    {
     "data": {
      "image/png": "[encoded data removed]",
      "text/plain": [
       "<Figure size 432x288 with 1 Axes>"
      ]
     },
     "metadata": {
      "needs_background": "light"
     },
     "output_type": "display_data"
    }
   ],
   "source": [
    "# Define x, y values\n",
    "s_max_temp_x_values = southern_hemi_df[\"Lat\"]\n",
    "s_max_temp_y_values = southern_hemi_df[\"Max Temp\"]\n",
    "\n",
    "# Find linear regression values\n",
    "# Regress_values = total_equipment * slope + intercept\n",
    "(s_max_temp_slope, s_max_temp_intercept, s_max_temp_rvalue, s_max_temp_pvalue, s_max_temp_stderr) = linregress(s_max_temp_x_values, s_max_temp_y_values)\n",
    "s_max_temp_regress_values = np.asarray(s_max_temp_x_values) * s_max_temp_slope + s_max_temp_intercept\n",
    "\n",
    "# Find r-squared\n",
    "s_max_temp_rsquared = round(s_max_temp_rvalue**2,2)\n",
    "print(f\"The r-squared is: {s_max_temp_rsquared}\")\n",
    "\n",
    "# Line equation\n",
    "s_max_temp_line_eq = \"y =\" + str(round(s_max_temp_slope,2)) + \"x + \" + str(round(s_max_temp_intercept,2))\n",
    "\n",
    "# Create scatter plot\n",
    "plt.scatter(s_max_temp_x_values, s_max_temp_y_values, color=\"green\")\n",
    "\n",
    "# Add regression line\n",
    "plt.plot(s_max_temp_x_values, s_max_temp_regress_values, \"r-\")\n",
    "\n",
    "# Add title and labels\n",
    "plt.title(f\"Southern Hemisphere City Latitude vs. Max Temperature ({date_title})\")\n",
    "plt.xlabel(\"Latitude\")\n",
    "plt.ylabel(\"Max Temperature (F)\")\n",
    "\n",
    "# Add annotation to plot\n",
    "plt.annotate(s_max_temp_line_eq,(-25,53), fontsize=15, color=\"red\")\n",
    "plt.annotate(f\"r-squared = {s_max_temp_rsquared}\",(-25,48),fontsize=15,color=\"red\")\n",
    "\n",
    "plt.show()"
   ]
  },
  {
   "cell_type": "markdown",
   "metadata": {},
   "source": [
    "####  Northern Hemisphere - Cloudiness (%) vs. Latitude Linear Regression"
   ]
  },
  {
   "cell_type": "code",
   "execution_count": 24,
   "metadata": {
    "ExecuteTime": {
     "end_time": "2021-06-02T04:53:55.388664Z",
     "start_time": "2021-06-02T04:53:55.212091Z"
    }
   },
   "outputs": [
    {
     "name": "stdout",
     "output_type": "stream",
     "text": [
      "The r-squared is: 0.01\n"
     ]
    },
    {
     "data": {
      "image/png": "[encoded data removed]",
      "text/plain": [
       "<Figure size 432x288 with 1 Axes>"
      ]
     },
     "metadata": {
      "needs_background": "light"
     },
     "output_type": "display_data"
    }
   ],
   "source": [
    "# Define x, y values\n",
    "n_humidity_x_values = northern_hemi_df[\"Lat\"]\n",
    "n_humidity_y_values = northern_hemi_df[\"Humidity\"]\n",
    "\n",
    "# Find linear regression values\n",
    "# Regress_values = total_equipment * slope + intercept\n",
    "(n_humidity_slope, n_humidity_intercept, n_humidity_rvalue, n_humidity_pvalue, n_humidity_stderr) = linregress(n_humidity_x_values, n_humidity_y_values)\n",
    "n_humidity_regress_values = np.asarray(n_humidity_x_values) * n_humidity_slope + n_humidity_intercept\n",
    "\n",
    "# Find r-squared\n",
    "n_humidity_rsquared = round(n_humidity_rvalue**2,2)\n",
    "print(f\"The r-squared is: {n_humidity_rsquared}\")\n",
    "\n",
    "# Line equation y = mx + b\n",
    "n_humidity_line_eq = \"y =\" + str(round(n_humidity_slope,2)) + \"x + \" + str(round(n_humidity_intercept,2))\n",
    "\n",
    "# Create scatter plot\n",
    "plt.scatter(n_humidity_x_values, n_humidity_y_values)\n",
    "\n",
    "# Add regression line\n",
    "plt.plot(n_humidity_x_values, n_humidity_regress_values, \"r-\")\n",
    "\n",
    "# Add title and labels\n",
    "plt.title(f\"Northern Hemisphere City Latitude vs. Humidity (%) ({date_title})\")\n",
    "plt.xlabel(\"Latitude\")\n",
    "plt.ylabel(\"Humidity (%)\")\n",
    "\n",
    "# Add annotation to plot\n",
    "plt.annotate(n_humidity_line_eq,(45,20), fontsize=15, color=\"red\")\n",
    "plt.annotate(f\"r-squared = {n_humidity_rsquared}\",(45,10),fontsize=15,color=\"red\")\n",
    "\n",
    "plt.show()"
   ]
  },
  {
   "cell_type": "markdown",
   "metadata": {},
   "source": [
    "####  Southern Hemisphere - Cloudiness (%) vs. Latitude Linear Regression"
   ]
  },
  {
   "cell_type": "code",
   "execution_count": 25,
   "metadata": {
    "ExecuteTime": {
     "end_time": "2021-06-02T04:55:50.825627Z",
     "start_time": "2021-06-02T04:55:50.657392Z"
    }
   },
   "outputs": [
    {
     "name": "stdout",
     "output_type": "stream",
     "text": [
      "The r-squared is: 0.01\n"
     ]
    },
    {
     "data": {
      "image/png": "[encoded data removed]",
      "text/plain": [
       "<Figure size 432x288 with 1 Axes>"
      ]
     },
     "metadata": {
      "needs_background": "light"
     },
     "output_type": "display_data"
    }
   ],
   "source": [
    "# Define x, y values\n",
    "s_humidity_x_values = southern_hemi_df[\"Lat\"]\n",
    "s_humidity_y_values = southern_hemi_df[\"Humidity\"]\n",
    "\n",
    "# Find linear regression values\n",
    "# Regress_values = total_equipment * slope + intercept\n",
    "(s_humidity_slope, s_humidity_intercept, s_humidity_rvalue, s_humidity_pvalue, s_humidity_stderr) = linregress(s_humidity_x_values, s_humidity_y_values)\n",
    "s_humidity_regress_values = np.asarray(s_humidity_x_values) * s_humidity_slope + s_humidity_intercept\n",
    "\n",
    "# Find r-squared\n",
    "s_humidity_rsquared = round(s_humidity_rvalue**2,2)\n",
    "print(f\"The r-squared is: {s_humidity_rsquared}\")\n",
    "\n",
    "# Line equation y = mx + b\n",
    "s_humidity_line_eq = \"y =\" + str(round(s_humidity_slope,2)) + \"x + \" + str(round(s_humidity_intercept,2))\n",
    "\n",
    "# Create scatter plot\n",
    "plt.scatter(s_humidity_x_values, s_humidity_y_values, color=\"green\")\n",
    "\n",
    "# Add regression line\n",
    "plt.plot(s_humidity_x_values, s_humidity_regress_values, \"r-\")\n",
    "\n",
    "# Add title and labels\n",
    "plt.title(f\"Southern Hemisphere City Latitude vs. Humidity (%) ({date_title})\")\n",
    "plt.xlabel(\"Latitude\")\n",
    "plt.ylabel(\"Humidity (%)\")\n",
    "\n",
    "# Add annotation to plot\n",
    "plt.annotate(n_humidity_line_eq,(-50,45), fontsize=15, color=\"red\")\n",
    "plt.annotate(f\"r-squared = {n_humidity_rsquared}\",(-50,38),fontsize=15,color=\"red\")\n",
    "\n",
    "plt.show()"
   ]
  },
  {
   "cell_type": "markdown",
   "metadata": {},
   "source": [
    "####  Northern Hemisphere - Wind Speed (mph) vs. Latitude Linear Regression"
   ]
  },
  {
   "cell_type": "code",
   "execution_count": 26,
   "metadata": {
    "ExecuteTime": {
     "end_time": "2021-06-02T04:57:15.950386Z",
     "start_time": "2021-06-02T04:57:15.751858Z"
    }
   },
   "outputs": [
    {
     "name": "stdout",
     "output_type": "stream",
     "text": [
      "The r-squared is: 0.01\n"
     ]
    },
    {
     "data": {
      "image/png": "[encoded data removed]",
      "text/plain": [
       "<Figure size 432x288 with 1 Axes>"
      ]
     },
     "metadata": {
      "needs_background": "light"
     },
     "output_type": "display_data"
    }
   ],
   "source": [
    "# Define x, y values\n",
    "n_cloudiness_x_values = northern_hemi_df[\"Lat\"]\n",
    "n_cloudiness_y_values = northern_hemi_df[\"Cloudiness\"]\n",
    "\n",
    "# Find linear regression values\n",
    "# Regress_values = total_equipment * slope + intercept\n",
    "(n_cloudiness_slope, n_cloudiness_intercept, n_cloudiness_rvalue, n_cloudiness_pvalue, n_cloudiness_stderr) = linregress(n_cloudiness_x_values, n_cloudiness_y_values)\n",
    "n_cloudiness_regress_values = np.asarray(n_cloudiness_x_values) * n_cloudiness_slope + n_cloudiness_intercept\n",
    "\n",
    "# Find r-squared\n",
    "n_cloudiness_rsquared = round(n_cloudiness_rvalue**2,2)\n",
    "print(f\"The r-squared is: {n_cloudiness_rsquared}\")\n",
    "\n",
    "# Line equation y = mx + b\n",
    "n_cloudiness_line_eq = \"y =\" + str(round(n_cloudiness_slope,2)) + \"x + \" + str(round(n_cloudiness_intercept,2))\n",
    "\n",
    "# Create scatter plot\n",
    "plt.scatter(n_cloudiness_x_values, n_cloudiness_y_values)\n",
    "\n",
    "# Add regression line\n",
    "plt.plot(n_cloudiness_x_values, n_cloudiness_regress_values, \"r-\")\n",
    "\n",
    "# Add title and labels\n",
    "plt.title(f\"Northern Hemisphere City Latitude vs. Cloudiness (%) ({date_title})\")\n",
    "plt.xlabel(\"Latitude\")\n",
    "plt.ylabel(\"Cloudiness(%)\")\n",
    "\n",
    "# Add annotation to plot\n",
    "plt.annotate(n_cloudiness_line_eq,(45,20), fontsize=15, color=\"red\")\n",
    "plt.annotate(f\"r-squared = {n_cloudiness_rsquared}\",(45,10),fontsize=15,color=\"red\")\n",
    "\n",
    "plt.show()"
   ]
  },
  {
   "cell_type": "markdown",
   "metadata": {},
   "source": [
    "####  Southern Hemisphere - Wind Speed (mph) vs. Latitude Linear Regression"
   ]
  },
  {
   "cell_type": "code",
   "execution_count": 27,
   "metadata": {
    "ExecuteTime": {
     "end_time": "2021-06-02T04:59:09.681999Z",
     "start_time": "2021-06-02T04:59:09.511488Z"
    }
   },
   "outputs": [
    {
     "name": "stdout",
     "output_type": "stream",
     "text": [
      "The r-squared is: 0.01\n"
     ]
    },
    {
     "data": {
      "image/png": "[encoded data removed]",
      "text/plain": [
       "<Figure size 432x288 with 1 Axes>"
      ]
     },
     "metadata": {
      "needs_background": "light"
     },
     "output_type": "display_data"
    }
   ],
   "source": [
    "# Define x, y values\n",
    "s_cloudiness_x_values = southern_hemi_df[\"Lat\"]\n",
    "s_cloudiness_y_values = southern_hemi_df[\"Cloudiness\"]\n",
    "\n",
    "# Find linear regression values\n",
    "# Regress_values = total_equipment * slope + intercept\n",
    "(s_cloudiness_slope, s_cloudiness_intercept, s_cloudiness_rvalue, s_cloudiness_pvalue, s_cloudiness_stderr) = linregress(s_cloudiness_x_values, s_cloudiness_y_values)\n",
    "s_cloudiness_regress_values = np.asarray(s_cloudiness_x_values) * s_cloudiness_slope + s_cloudiness_intercept\n",
    "\n",
    "# Find r-squared\n",
    "s_cloudiness_rsquared = round(s_cloudiness_rvalue**2,2)\n",
    "print(f\"The r-squared is: {s_cloudiness_rsquared}\")\n",
    "\n",
    "# Line equation y = mx + b\n",
    "s_cloudiness_line_eq = \"y =\" + str(round(s_cloudiness_slope,2)) + \"x + \" + str(round(s_cloudiness_intercept,2))\n",
    "\n",
    "# Create scatter plot\n",
    "plt.scatter(s_cloudiness_x_values, s_cloudiness_y_values, color=\"green\")\n",
    "\n",
    "# Add regression line\n",
    "plt.plot(s_cloudiness_x_values, s_cloudiness_regress_values, \"r-\")\n",
    "\n",
    "# Add title and labels\n",
    "plt.title(f\"Southern Hemisphere City Latitude vs. Cloudiness (%) ({date_title})\")\n",
    "plt.xlabel(\"Latitude\")\n",
    "plt.ylabel(\"Cloudiness(%)\")\n",
    "\n",
    "# Add annotation to plot\n",
    "plt.annotate(s_cloudiness_line_eq,(-55,32), fontsize=15, color=\"red\")\n",
    "plt.annotate(f\"r-squared = {s_cloudiness_rsquared}\",(-55,23),fontsize=15,color=\"red\")\n",
    "\n",
    "plt.show()"
   ]
  }
 ],
 "metadata": {
  "anaconda-cloud": {},
  "kernel_info": {
   "name": "python3"
  },
  "kernelspec": {
   "display_name": "Python 3",
   "language": "python",
   "name": "python3"
  },
  "language_info": {
   "codemirror_mode": {
    "name": "ipython",
    "version": 3
   },
   "file_extension": ".py",
   "mimetype": "text/x-python",
   "name": "python",
   "nbconvert_exporter": "python",
   "pygments_lexer": "ipython3",
   "version": "3.8.5"
  },
  "latex_envs": {
   "LaTeX_envs_menu_present": true,
   "autoclose": false,
   "autocomplete": true,
   "bibliofile": "biblio.bib",
   "cite_by": "apalike",
   "current_citInitial": 1,
   "eqLabelWithNumbers": true,
   "eqNumInitial": 1,
   "hotkeys": {
    "equation": "Ctrl-E",
    "itemize": "Ctrl-I"
   },
   "labels_anchors": false,
   "latex_user_defs": false,
   "report_style_numbering": false,
   "user_envs_cfg": false
  },
  "nteract": {
   "version": "0.12.3"
  },
  "toc": {
   "base_numbering": 1,
   "nav_menu": {},
   "number_sections": true,
   "sideBar": true,
   "skip_h1_title": false,
   "title_cell": "Table of Contents",
   "title_sidebar": "Contents",
   "toc_cell": false,
   "toc_position": {},
   "toc_section_display": true,
   "toc_window_display": false
  },
  "varInspector": {
   "cols": {
    "lenName": 16,
    "lenType": 16,
    "lenVar": 40
   },
   "kernels_config": {
    "python": {
     "delete_cmd_postfix": "",
     "delete_cmd_prefix": "del ",
     "library": "var_list.py",
     "varRefreshCmd": "print(var_dic_list())"
    },
    "r": {
     "delete_cmd_postfix": ") ",
     "delete_cmd_prefix": "rm(",
     "library": "var_list.r",
     "varRefreshCmd": "cat(var_dic_list()) "
    }
   },
   "types_to_exclude": [
    "module",
    "function",
    "builtin_function_or_method",
    "instance",
    "_Feature"
   ],
   "window_display": false
  }
 },
 "nbformat": 4,
 "nbformat_minor": 2
}
